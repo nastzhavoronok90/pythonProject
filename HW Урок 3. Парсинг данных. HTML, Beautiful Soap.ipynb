{
 "cells": [
  {
   "cell_type": "markdown",
   "id": "50319d3b",
   "metadata": {},
   "source": [
    "Необходимо собрать информацию о вакансиях на вводимую должность (используем input или через аргументы получаем должность) с сайтов HH(обязательно) и/или Superjob(по желанию). Приложение должно анализировать несколько страниц сайта (также вводим через input или аргументы). Получившийся список должен содержать в себе минимум:\n",
    "* Наименование вакансии.\n",
    "\n",
    "* Предлагаемую зарплату (разносим в три поля: минимальная и максимальная и валюта. цифры преобразуем к цифрам).\n",
    "\n",
    "* Ссылку на саму вакансию.\n",
    "\n",
    "* Сайт, откуда собрана вакансия."
   ]
  },
  {
   "cell_type": "code",
   "execution_count": 1,
   "id": "11ac6891",
   "metadata": {},
   "outputs": [
    {
     "name": "stdout",
     "output_type": "stream",
     "text": [
      "Collecting bs4\n",
      "  Downloading bs4-0.0.1.tar.gz (1.1 kB)\n",
      "  Preparing metadata (setup.py): started\n",
      "  Preparing metadata (setup.py): finished with status 'done'\n",
      "Requirement already satisfied: beautifulsoup4 in e:\\geekbreins\\python\\anaconda\\lib\\site-packages (from bs4) (4.11.1)\n",
      "Requirement already satisfied: soupsieve>1.2 in e:\\geekbreins\\python\\anaconda\\lib\\site-packages (from beautifulsoup4->bs4) (2.3.1)\n",
      "Building wheels for collected packages: bs4\n",
      "  Building wheel for bs4 (setup.py): started\n",
      "  Building wheel for bs4 (setup.py): finished with status 'done'\n",
      "  Created wheel for bs4: filename=bs4-0.0.1-py3-none-any.whl size=1257 sha256=122021016135370c82427d1792d914854160f9280e4daba50ac1799bc22e05de\n",
      "  Stored in directory: c:\\users\\fufik\\appdata\\local\\pip\\cache\\wheels\\73\\2b\\cb\\099980278a0c9a3e57ff1a89875ec07bfa0b6fcbebb9a8cad3\n",
      "Successfully built bs4\n",
      "Installing collected packages: bs4\n",
      "Successfully installed bs4-0.0.1\n",
      "Note: you may need to restart the kernel to use updated packages.\n"
     ]
    }
   ],
   "source": [
    "#pip install bs4"
   ]
  },
  {
   "cell_type": "code",
   "execution_count": 1,
   "id": "cb82ac9b",
   "metadata": {},
   "outputs": [],
   "source": [
    "from pprint import pprint\n",
    "from bs4 import BeautifulSoup as bs\n",
    "import requests\n",
    "from time import sleep"
   ]
  },
  {
   "cell_type": "code",
   "execution_count": 19,
   "id": "8070f788",
   "metadata": {},
   "outputs": [
    {
     "data": {
      "text/plain": [
       "200"
      ]
     },
     "execution_count": 19,
     "metadata": {},
     "output_type": "execute_result"
    }
   ],
   "source": [
    "USER_AGENT = 'Mozilla/5.0 (Windows NT 10.0; Win64; x64) AppleWebKit/537.36 (KHTML, like Gecko) Chrome/110.0.0.0 Safari/537.36'\n",
    "\n",
    "url = 'https://spb.hh.ru/search/vacancy?area=88&search_field=name&search_field=company_name&search_field=description&text=python&no_magic=true&L_save_area=true&items_on_page=20'\n",
    "\n",
    "headers = {\n",
    "    'User-Agent': USER_AGENT\n",
    "}\n",
    "\n",
    "response = requests.get(url, headers=headers)\n",
    "\n",
    "response.status_code"
   ]
  },
  {
   "cell_type": "code",
   "execution_count": 20,
   "id": "be4af4d1",
   "metadata": {},
   "outputs": [],
   "source": [
    "def parse_HH(url, headers, result_HH = [], index_page=1):\n",
    "    response = requests.get(url, headers=headers)\n",
    "    if response.status_code != 200:\n",
    "        print(\"Парсинг сайта завершен!\")\n",
    "        return result_HH\n",
    "    else:\n",
    "        print('Страница сайта №%d, ссылка на страницу: %s'%(index_page, response.url))\n",
    "        \n",
    "    dom = bs(response.content, 'html.parser')\n",
    "    vacancies = dom.find_all('div', {'class': 'vacancy-serp-item__layout'})\n",
    "    for vacancy in vacancies:\n",
    "        result_HH.append(parse_vacancy_hh(vacancy))\n",
    "        \n",
    "    link_next_page = dom.find('a', {'data_qa', 'pager-page'})\n",
    "    if link_next_page:\n",
    "        link_next_page = 'https://spb.hh.ru' + link_next_page['href']\n",
    "    else:\n",
    "        print('Парсинг сайта завершен!')\n",
    "        return result_HH\n",
    "    \n",
    "    result = parse_HH(link_next_page, headers, result_HH, index_page+1)\n",
    "    return result_HH\n",
    "\n",
    "def parse_vacancy_hh(dom_vacancy):\n",
    "    sleep(0.1)\n",
    "    vacancy_name = dom_vacancy.find('a').text\n",
    "    \n",
    "    vacancy_salary= dom_vacancy.find('span', {'class', 'bloko-header-section-3'})\n",
    "    if vacancy_salary:\n",
    "        vacancy_salary = vacancy_salary.text\n",
    "        min_salary, max_salary, currency_salary = clean_salary(vacancy_salary)\n",
    "    else:\n",
    "        min_salary, max_salary, currency_salary = None, None, None\n",
    "\n",
    "    vacancy_link = dom_vacancy.find('a')['href']\n",
    "  \n",
    "    return {\n",
    "        'vacancy_name': vacancy_name,\n",
    "        'vacancy_salary': vacancy_salary,\n",
    "        'min_salary': min_salary,\n",
    "        'max_salary': max_salary,\n",
    "        'currency_salary': currency_salary,\n",
    "        'vacancy_link': vacancy_link,\n",
    "        'vacancy_source': 'hh.ru'\n",
    "      }\n",
    "        \n",
    "    \n",
    "\n",
    "def clean_salary(vacancy_salary_text, min_salary=None, max_salary=None, currency_salary=None):\n",
    "    list_salary = vacancy_salary_text.replace('\\u202f', '').split()\n",
    "    for i in range(len(list_salary) - 1):\n",
    "        if list_salary[i] == 'от':\n",
    "            min_salary = int(list_salary[i + 1])\n",
    "        elif list_salary[i] == 'до':\n",
    "            max_salary = int(list_salary[i + 1])\n",
    "        elif list_salary[i] == '–':\n",
    "            min_salary = int(list_salary[i - 1])\n",
    "            max_salary = int(list_salary[i + 1])\n",
    "    currency_salary = list_salary[-1]\n",
    "\n",
    "    return min_salary, max_salary, currency_salary\n"
   ]
  },
  {
   "cell_type": "code",
   "execution_count": 21,
   "id": "16af5746",
   "metadata": {},
   "outputs": [
    {
     "name": "stdout",
     "output_type": "stream",
     "text": [
      "Страница сайта №1, ссылка на страницу: https://spb.hh.ru/search/vacancy?area=88&search_field=name&search_field=company_name&search_field=description&text=python&no_magic=true&L_save_area=true&items_on_page=20\n",
      "Парсинг сайта завершен!\n"
     ]
    }
   ],
   "source": [
    "result_HH = parse_HH(url, headers)"
   ]
  },
  {
   "cell_type": "code",
   "execution_count": 22,
   "id": "983e6709",
   "metadata": {},
   "outputs": [
    {
     "data": {
      "text/plain": [
       "20"
      ]
     },
     "execution_count": 22,
     "metadata": {},
     "output_type": "execute_result"
    }
   ],
   "source": [
    "len(result_HH)"
   ]
  },
  {
   "cell_type": "code",
   "execution_count": 23,
   "id": "1950c12f",
   "metadata": {},
   "outputs": [
    {
     "data": {
      "text/plain": [
       "[{'vacancy_name': 'Разработчик Python',\n",
       "  'vacancy_salary': 'от 120\\u202f000 руб.',\n",
       "  'min_salary': 120000,\n",
       "  'max_salary': None,\n",
       "  'currency_salary': 'руб.',\n",
       "  'vacancy_link': 'https://spb.hh.ru/vacancy/76076341?from=vacancy_search_list&query=python',\n",
       "  'vacancy_source': 'hh.ru'},\n",
       " {'vacancy_name': 'Python разработчик',\n",
       "  'vacancy_salary': None,\n",
       "  'min_salary': None,\n",
       "  'max_salary': None,\n",
       "  'currency_salary': None,\n",
       "  'vacancy_link': 'https://spb.hh.ru/vacancy/77409819?from=vacancy_search_list&query=python',\n",
       "  'vacancy_source': 'hh.ru'},\n",
       " {'vacancy_name': 'Middle Python developer (Казань)',\n",
       "  'vacancy_salary': 'от 160\\u202f000 руб.',\n",
       "  'min_salary': 160000,\n",
       "  'max_salary': None,\n",
       "  'currency_salary': 'руб.',\n",
       "  'vacancy_link': 'https://spb.hh.ru/vacancy/76115939?from=vacancy_search_list&query=python',\n",
       "  'vacancy_source': 'hh.ru'},\n",
       " {'vacancy_name': 'Аналитик данных',\n",
       "  'vacancy_salary': 'от 2\\u202f000 USD',\n",
       "  'min_salary': 2000,\n",
       "  'max_salary': None,\n",
       "  'currency_salary': 'USD',\n",
       "  'vacancy_link': 'https://spb.hh.ru/vacancy/77497476?from=vacancy_search_list&query=python',\n",
       "  'vacancy_source': 'hh.ru'},\n",
       " {'vacancy_name': 'Lead Python developer',\n",
       "  'vacancy_salary': 'до 500\\u202f000 руб.',\n",
       "  'min_salary': None,\n",
       "  'max_salary': 500000,\n",
       "  'currency_salary': 'руб.',\n",
       "  'vacancy_link': 'https://spb.hh.ru/vacancy/77337810?from=vacancy_search_list&query=python',\n",
       "  'vacancy_source': 'hh.ru'},\n",
       " {'vacancy_name': 'Junior/Middle Backend-разработчик на Ruby',\n",
       "  'vacancy_salary': '110\\u202f000 – 150\\u202f000 руб.',\n",
       "  'min_salary': 110000,\n",
       "  'max_salary': 150000,\n",
       "  'currency_salary': 'руб.',\n",
       "  'vacancy_link': 'https://spb.hh.ru/vacancy/76964796?from=vacancy_search_list&query=python',\n",
       "  'vacancy_source': 'hh.ru'},\n",
       " {'vacancy_name': 'Python backend-разработчик в команду Data Science',\n",
       "  'vacancy_salary': None,\n",
       "  'min_salary': None,\n",
       "  'max_salary': None,\n",
       "  'currency_salary': None,\n",
       "  'vacancy_link': 'https://spb.hh.ru/vacancy/77050357?from=vacancy_search_list&query=python',\n",
       "  'vacancy_source': 'hh.ru'},\n",
       " {'vacancy_name': 'Python Developer',\n",
       "  'vacancy_salary': None,\n",
       "  'min_salary': None,\n",
       "  'max_salary': None,\n",
       "  'currency_salary': None,\n",
       "  'vacancy_link': 'https://spb.hh.ru/vacancy/76843829?from=vacancy_search_list&query=python',\n",
       "  'vacancy_source': 'hh.ru'},\n",
       " {'vacancy_name': 'Python Developer',\n",
       "  'vacancy_salary': None,\n",
       "  'min_salary': None,\n",
       "  'max_salary': None,\n",
       "  'currency_salary': None,\n",
       "  'vacancy_link': 'https://spb.hh.ru/vacancy/76597591?from=vacancy_search_list&query=python',\n",
       "  'vacancy_source': 'hh.ru'},\n",
       " {'vacancy_name': 'Преподаватель Python',\n",
       "  'vacancy_salary': 'от 125\\u202f000 руб.',\n",
       "  'min_salary': 125000,\n",
       "  'max_salary': None,\n",
       "  'currency_salary': 'руб.',\n",
       "  'vacancy_link': 'https://spb.hh.ru/vacancy/77083921?from=vacancy_search_list&query=python',\n",
       "  'vacancy_source': 'hh.ru'},\n",
       " {'vacancy_name': 'Python senior developer (разработчик)',\n",
       "  'vacancy_salary': 'от 250\\u202f000 руб.',\n",
       "  'min_salary': 250000,\n",
       "  'max_salary': None,\n",
       "  'currency_salary': 'руб.',\n",
       "  'vacancy_link': 'https://spb.hh.ru/vacancy/76840136?from=vacancy_search_list&query=python',\n",
       "  'vacancy_source': 'hh.ru'},\n",
       " {'vacancy_name': 'Python разработчик',\n",
       "  'vacancy_salary': None,\n",
       "  'min_salary': None,\n",
       "  'max_salary': None,\n",
       "  'currency_salary': None,\n",
       "  'vacancy_link': 'https://spb.hh.ru/vacancy/75951525?from=vacancy_search_list&query=python',\n",
       "  'vacancy_source': 'hh.ru'},\n",
       " {'vacancy_name': 'Python разработчик',\n",
       "  'vacancy_salary': 'от 350\\u202f000 руб.',\n",
       "  'min_salary': 350000,\n",
       "  'max_salary': None,\n",
       "  'currency_salary': 'руб.',\n",
       "  'vacancy_link': 'https://spb.hh.ru/vacancy/76929580?from=vacancy_search_list&query=python',\n",
       "  'vacancy_source': 'hh.ru'},\n",
       " {'vacancy_name': 'Python-разработчик (middle)',\n",
       "  'vacancy_salary': None,\n",
       "  'min_salary': None,\n",
       "  'max_salary': None,\n",
       "  'currency_salary': None,\n",
       "  'vacancy_link': 'https://spb.hh.ru/vacancy/77289628?from=vacancy_search_list&query=python',\n",
       "  'vacancy_source': 'hh.ru'},\n",
       " {'vacancy_name': 'Системный аналитик (systems analyst)',\n",
       "  'vacancy_salary': 'от 120\\u202f000 руб.',\n",
       "  'min_salary': 120000,\n",
       "  'max_salary': None,\n",
       "  'currency_salary': 'руб.',\n",
       "  'vacancy_link': 'https://spb.hh.ru/vacancy/77145441?from=vacancy_search_list&query=python',\n",
       "  'vacancy_source': 'hh.ru'},\n",
       " {'vacancy_name': 'Системный администратор Linux (Казань)',\n",
       "  'vacancy_salary': 'от 180\\u202f000 руб.',\n",
       "  'min_salary': 180000,\n",
       "  'max_salary': None,\n",
       "  'currency_salary': 'руб.',\n",
       "  'vacancy_link': 'https://spb.hh.ru/vacancy/76115945?from=vacancy_search_list&query=python',\n",
       "  'vacancy_source': 'hh.ru'},\n",
       " {'vacancy_name': 'Ведущий инженер-программист (python, С/C++)',\n",
       "  'vacancy_salary': None,\n",
       "  'min_salary': None,\n",
       "  'max_salary': None,\n",
       "  'currency_salary': None,\n",
       "  'vacancy_link': 'https://spb.hh.ru/vacancy/76919357?from=vacancy_search_list&query=python',\n",
       "  'vacancy_source': 'hh.ru'},\n",
       " {'vacancy_name': 'Team Lead Python',\n",
       "  'vacancy_salary': 'от 400\\u202f000 руб.',\n",
       "  'min_salary': 400000,\n",
       "  'max_salary': None,\n",
       "  'currency_salary': 'руб.',\n",
       "  'vacancy_link': 'https://spb.hh.ru/vacancy/76930290?from=vacancy_search_list&query=python',\n",
       "  'vacancy_source': 'hh.ru'},\n",
       " {'vacancy_name': 'Программист Python',\n",
       "  'vacancy_salary': '110\\u202f000 – 130\\u202f000 руб.',\n",
       "  'min_salary': 110000,\n",
       "  'max_salary': 130000,\n",
       "  'currency_salary': 'руб.',\n",
       "  'vacancy_link': 'https://spb.hh.ru/vacancy/76468048?from=vacancy_search_list&query=python',\n",
       "  'vacancy_source': 'hh.ru'},\n",
       " {'vacancy_name': 'Python Developer',\n",
       "  'vacancy_salary': None,\n",
       "  'min_salary': None,\n",
       "  'max_salary': None,\n",
       "  'currency_salary': None,\n",
       "  'vacancy_link': 'https://spb.hh.ru/vacancy/76649090?from=vacancy_search_list&query=python',\n",
       "  'vacancy_source': 'hh.ru'}]"
      ]
     },
     "execution_count": 23,
     "metadata": {},
     "output_type": "execute_result"
    }
   ],
   "source": [
    "result_HH"
   ]
  },
  {
   "cell_type": "code",
   "execution_count": null,
   "id": "dc33e786",
   "metadata": {},
   "outputs": [],
   "source": []
  }
 ],
 "metadata": {
  "kernelspec": {
   "display_name": "Python 3 (ipykernel)",
   "language": "python",
   "name": "python3"
  },
  "language_info": {
   "codemirror_mode": {
    "name": "ipython",
    "version": 3
   },
   "file_extension": ".py",
   "mimetype": "text/x-python",
   "name": "python",
   "nbconvert_exporter": "python",
   "pygments_lexer": "ipython3",
   "version": "3.9.12"
  }
 },
 "nbformat": 4,
 "nbformat_minor": 5
}
