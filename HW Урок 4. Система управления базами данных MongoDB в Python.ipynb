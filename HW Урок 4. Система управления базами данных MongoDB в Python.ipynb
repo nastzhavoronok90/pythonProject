{
 "cells": [
  {
   "cell_type": "code",
   "execution_count": 4,
   "id": "be1aeb08",
   "metadata": {},
   "outputs": [],
   "source": [
    "from pprint import pprint\n",
    "from bs4 import BeautifulSoup as bs\n",
    "import requests\n",
    "from time import sleep"
   ]
  },
  {
   "cell_type": "code",
   "execution_count": 31,
   "id": "bb2d6112",
   "metadata": {},
   "outputs": [
    {
     "data": {
      "text/plain": [
       "200"
      ]
     },
     "execution_count": 31,
     "metadata": {},
     "output_type": "execute_result"
    }
   ],
   "source": [
    "USER_AGENT = 'Mozilla/5.0 (Windows NT 10.0; Win64; x64) AppleWebKit/537.36 (KHTML, like Gecko) Chrome/110.0.0.0 Safari/537.36'\n",
    "\n",
    "url = 'https://spb.hh.ru/search/vacancy?area=88&search_field=name&search_field=company_name&search_field=description&text=python&no_magic=true&L_save_area=true&items_on_page=20'\n",
    "\n",
    "headers = {\n",
    "    'User-Agent': USER_AGENT\n",
    "}\n",
    "\n",
    "response = requests.get(url, headers=headers)\n",
    "\n",
    "response.status_code"
   ]
  },
  {
   "cell_type": "code",
   "execution_count": 32,
   "id": "b04b9cf7",
   "metadata": {},
   "outputs": [],
   "source": [
    "def parse_hh(url, headers, result_HH = [], index_page=1):\n",
    "    response = requests.get(url, headers=headers)\n",
    "    if response.status_code != 200:\n",
    "        print('Парсинг завершен')\n",
    "        return result_HH\n",
    "    else:\n",
    "        print('Cтраница №%d, ссылка: %s'%(index_page, response.url))\n",
    "\n",
    "    dom = bs(response.content, 'html.parser')\n",
    "    vacancies = dom.find_all('div', {'class': 'vacancy-serp-item__layout'})\n",
    "    for vacancy in vacancies:\n",
    "        result_HH.append(parse_vacancy_hh(vacancy))\n",
    "\n",
    "    link_next_page = dom.find('a', {'data-qa': 'pager-next'})\n",
    "    if link_next_page:\n",
    "        link_next_page =  'https://spb.hh.ru' + link_next_page['href']\n",
    "    else:\n",
    "        print('Парсинг завершен')\n",
    "        return result_HH\n",
    "\n",
    "    result_HH = parse_hh(link_next_page, headers, result_HH, index_page+1)   \n",
    "    return result_HH\n",
    "\n",
    "\n",
    "def parse_vacancy_hh(dom_vacancy):\n",
    "    sleep(0.1)\n",
    "    vacancy_name = dom_vacancy.find('a').text\n",
    "    \n",
    "    vacancy_salary= dom_vacancy.find('span', {'class', 'bloko-header-section-3'})\n",
    "    if vacancy_salary:\n",
    "        vacancy_salary = vacancy_salary.text\n",
    "        min_salary, max_salary, currency_salary = clean_salary(vacancy_salary)\n",
    "    else:\n",
    "        min_salary, max_salary, currency_salary = None, None, None\n",
    "\n",
    "    vacancy_link = dom_vacancy.find('a')['href']\n",
    "  \n",
    "    return {\n",
    "        'vacancy_name': vacancy_name,\n",
    "        'vacancy_salary': vacancy_salary,\n",
    "        'min_salary': min_salary,\n",
    "        'max_salary': max_salary,\n",
    "        'currency_salary': currency_salary,\n",
    "        'vacancy_link': vacancy_link,\n",
    "        'vacancy_source': 'hh.ru'\n",
    "      }\n",
    "        \n",
    "    \n",
    "\n",
    "def clean_salary(vacancy_salary_text, min_salary=None, max_salary=None, currency_salary=None):\n",
    "    list_salary = vacancy_salary_text.replace('\\u202f', '').split()\n",
    "    for i in range(len(list_salary) - 1):\n",
    "        if list_salary[i] == 'от':\n",
    "            min_salary = int(list_salary[i + 1])\n",
    "        elif list_salary[i] == 'до':\n",
    "            max_salary = int(list_salary[i + 1])\n",
    "        elif list_salary[i] == '–':\n",
    "            min_salary = int(list_salary[i - 1])\n",
    "            max_salary = int(list_salary[i + 1])\n",
    "    currency_salary = list_salary[-1]\n",
    "\n",
    "    return min_salary, max_salary, currency_salary"
   ]
  },
  {
   "cell_type": "code",
   "execution_count": 33,
   "id": "3e293350",
   "metadata": {},
   "outputs": [
    {
     "name": "stdout",
     "output_type": "stream",
     "text": [
      "Cтраница №1, ссылка: https://spb.hh.ru/search/vacancy?area=88&search_field=name&search_field=company_name&search_field=description&text=python&no_magic=true&L_save_area=true&items_on_page=20\n",
      "Cтраница №2, ссылка: https://spb.hh.ru/search/vacancy?area=88&search_field=name&search_field=company_name&search_field=description&text=python&no_magic=true&L_save_area=true&items_on_page=20&page=1&hhtmFrom=vacancy_search_list\n",
      "Cтраница №3, ссылка: https://spb.hh.ru/search/vacancy?area=88&search_field=name&search_field=company_name&search_field=description&text=python&no_magic=true&L_save_area=true&items_on_page=20&page=2&hhtmFrom=vacancy_search_list\n",
      "Cтраница №4, ссылка: https://spb.hh.ru/search/vacancy?area=88&search_field=name&search_field=company_name&search_field=description&text=python&no_magic=true&L_save_area=true&items_on_page=20&page=3&hhtmFrom=vacancy_search_list\n",
      "Cтраница №5, ссылка: https://spb.hh.ru/search/vacancy?area=88&search_field=name&search_field=company_name&search_field=description&text=python&no_magic=true&L_save_area=true&items_on_page=20&page=4&hhtmFrom=vacancy_search_list\n",
      "Cтраница №6, ссылка: https://spb.hh.ru/search/vacancy?area=88&search_field=name&search_field=company_name&search_field=description&text=python&no_magic=true&L_save_area=true&items_on_page=20&page=5&hhtmFrom=vacancy_search_list\n",
      "Cтраница №7, ссылка: https://spb.hh.ru/search/vacancy?area=88&search_field=name&search_field=company_name&search_field=description&text=python&no_magic=true&L_save_area=true&items_on_page=20&page=6&hhtmFrom=vacancy_search_list\n",
      "Cтраница №8, ссылка: https://spb.hh.ru/search/vacancy?area=88&search_field=name&search_field=company_name&search_field=description&text=python&no_magic=true&L_save_area=true&items_on_page=20&page=7&hhtmFrom=vacancy_search_list\n",
      "Cтраница №9, ссылка: https://spb.hh.ru/search/vacancy?area=88&search_field=name&search_field=company_name&search_field=description&text=python&no_magic=true&L_save_area=true&items_on_page=20&page=8&hhtmFrom=vacancy_search_list\n",
      "Парсинг завершен\n"
     ]
    }
   ],
   "source": [
    "result_HH = parse_hh(url, headers)"
   ]
  },
  {
   "cell_type": "code",
   "execution_count": 34,
   "id": "76c0a793",
   "metadata": {},
   "outputs": [
    {
     "data": {
      "text/plain": [
       "180"
      ]
     },
     "execution_count": 34,
     "metadata": {},
     "output_type": "execute_result"
    }
   ],
   "source": [
    "len(result_HH)"
   ]
  },
  {
   "cell_type": "code",
   "execution_count": 35,
   "id": "3508e469",
   "metadata": {},
   "outputs": [],
   "source": [
    "from pymongo import MongoClient"
   ]
  },
  {
   "cell_type": "code",
   "execution_count": 36,
   "id": "8e6698c7",
   "metadata": {},
   "outputs": [],
   "source": [
    "client = MongoClient('127.0.0.1', 27017)"
   ]
  },
  {
   "cell_type": "code",
   "execution_count": 37,
   "id": "2a3fdb0d",
   "metadata": {},
   "outputs": [],
   "source": [
    "db = client.py_vacancies_hh"
   ]
  },
  {
   "cell_type": "code",
   "execution_count": 38,
   "id": "7ec2d2b7",
   "metadata": {},
   "outputs": [],
   "source": [
    "collection_py_vacancies_hh = db.hh_ru"
   ]
  },
  {
   "cell_type": "code",
   "execution_count": null,
   "id": "2f11d804",
   "metadata": {},
   "outputs": [],
   "source": [
    "def cheak_vacancies_in_db(vacancies):\n",
    "    for vacancy in vacancies:\n",
    "        if not len(list(collection_py_vacancies_hh.find({'vacancy_link': vacancy['vacancy_link']}))):\n",
    "            collection_py_vacancies_hh.insert_one(vacancy)\n",
    "            "
   ]
  },
  {
   "cell_type": "code",
   "execution_count": null,
   "id": "ca280c6e",
   "metadata": {},
   "outputs": [],
   "source": [
    "cheak_vacancies_in_db(result_HH)"
   ]
  },
  {
   "cell_type": "code",
   "execution_count": null,
   "id": "22ab3adb",
   "metadata": {},
   "outputs": [],
   "source": [
    "result_find = list(collection_py_vacancies_hh.find())"
   ]
  },
  {
   "cell_type": "code",
   "execution_count": null,
   "id": "30259cd4",
   "metadata": {},
   "outputs": [],
   "source": [
    "len(result_find)"
   ]
  }
 ],
 "metadata": {
  "kernelspec": {
   "display_name": "Python 3 (ipykernel)",
   "language": "python",
   "name": "python3"
  },
  "language_info": {
   "codemirror_mode": {
    "name": "ipython",
    "version": 3
   },
   "file_extension": ".py",
   "mimetype": "text/x-python",
   "name": "python",
   "nbconvert_exporter": "python",
   "pygments_lexer": "ipython3",
   "version": "3.9.12"
  }
 },
 "nbformat": 4,
 "nbformat_minor": 5
}
